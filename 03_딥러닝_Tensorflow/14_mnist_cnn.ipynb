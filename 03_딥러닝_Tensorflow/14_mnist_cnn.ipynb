{
 "cells": [
  {
   "cell_type": "code",
   "execution_count": 1,
   "metadata": {
    "colab": {},
    "colab_type": "code",
    "executionInfo": {
     "elapsed": 2159,
     "status": "ok",
     "timestamp": 1598507510413,
     "user": {
      "displayName": "고병화",
      "photoUrl": "https://lh3.googleusercontent.com/a-/AOh14GgLZcAZyPt33HiIqtXjHiL8D4PIcVPdfLgODP1QBA=s64",
      "userId": "12645007744594631320"
     },
     "user_tz": -540
    },
    "id": "eSHTNVI6dvsQ"
   },
   "outputs": [],
   "source": [
    "# mnist_cnn\n",
    "# MNIST and Convolutional Neural Network\n",
    "# L1,L2 : conv2d + relu + max_pool \n",
    "# L3 : FC(Fully Connected Layer)\n",
    "\n",
    "import tensorflow as tf\n",
    "import numpy as np\n",
    "import matplotlib.pyplot as plt\n",
    "tf.random.set_seed(5)"
   ]
  },
  {
   "cell_type": "code",
   "execution_count": 2,
   "metadata": {
    "colab": {
     "base_uri": "https://localhost:8080/",
     "height": 69
    },
    "colab_type": "code",
    "executionInfo": {
     "elapsed": 2514,
     "status": "ok",
     "timestamp": 1598507510791,
     "user": {
      "displayName": "고병화",
      "photoUrl": "https://lh3.googleusercontent.com/a-/AOh14GgLZcAZyPt33HiIqtXjHiL8D4PIcVPdfLgODP1QBA=s64",
      "userId": "12645007744594631320"
     },
     "user_tz": -540
    },
    "id": "gXSSfDmPdvsU",
    "outputId": "cd3fae97-cdd2-4a11-d497-6bc0e5729b9a"
   },
   "outputs": [
    {
     "name": "stdout",
     "output_type": "stream",
     "text": [
      "Downloading data from https://storage.googleapis.com/tensorflow/tf-keras-datasets/mnist.npz\n",
      "11493376/11490434 [==============================] - 0s 0us/step\n",
      "(60000, 28, 28)\n"
     ]
    }
   ],
   "source": [
    "# mnist 데이터 가져오기\n",
    "mnist = tf.keras.datasets.mnist\n",
    "(x_train,y_train),(x_test,y_test) = mnist.load_data()\n",
    "print(x_train.shape)"
   ]
  },
  {
   "cell_type": "code",
   "execution_count": 3,
   "metadata": {
    "colab": {
     "base_uri": "https://localhost:8080/",
     "height": 69
    },
    "colab_type": "code",
    "executionInfo": {
     "elapsed": 8285,
     "status": "ok",
     "timestamp": 1598507516578,
     "user": {
      "displayName": "고병화",
      "photoUrl": "https://lh3.googleusercontent.com/a-/AOh14GgLZcAZyPt33HiIqtXjHiL8D4PIcVPdfLgODP1QBA=s64",
      "userId": "12645007744594631320"
     },
     "user_tz": -540
    },
    "id": "jai7bCIvdvsX",
    "outputId": "3dc802e2-7abd-4096-f71f-29f565452991"
   },
   "outputs": [
    {
     "name": "stdout",
     "output_type": "stream",
     "text": [
      "(60000, 10)\n",
      "(60000, 28, 28) <dtype: 'float32'>\n",
      "(10000, 28, 28) <dtype: 'float32'>\n"
     ]
    }
   ],
   "source": [
    "# one-hot 인코딩\n",
    "nb_classes = 10  # 분류 class의 갯수(0~9)\n",
    "\n",
    "Y_one_hot = tf.one_hot(y_train,nb_classes)   # (60000, 10)\n",
    "print(Y_one_hot.shape)                       # (60000, 10) , (2차원)\n",
    "\n",
    "# X값의 타입을 float형으로 변환\n",
    "x_train = tf.cast(x_train,dtype=tf.float32)\n",
    "print(x_train.shape,x_train.dtype)\n",
    "\n",
    "x_test = tf.cast(x_test,dtype=tf.float32)\n",
    "print(x_test.shape,x_test.dtype)"
   ]
  },
  {
   "cell_type": "code",
   "execution_count": 4,
   "metadata": {
    "colab": {
     "base_uri": "https://localhost:8080/",
     "height": 34
    },
    "colab_type": "code",
    "executionInfo": {
     "elapsed": 8270,
     "status": "ok",
     "timestamp": 1598507516579,
     "user": {
      "displayName": "고병화",
      "photoUrl": "https://lh3.googleusercontent.com/a-/AOh14GgLZcAZyPt33HiIqtXjHiL8D4PIcVPdfLgODP1QBA=s64",
      "userId": "12645007744594631320"
     },
     "user_tz": -540
    },
    "id": "xsEoo0k0dvsa",
    "outputId": "54f027a7-4123-4ae8-a9e8-c4c6207e681e"
   },
   "outputs": [
    {
     "name": "stdout",
     "output_type": "stream",
     "text": [
      "(60000, 28, 28, 1)\n"
     ]
    }
   ],
   "source": [
    "# X값의 shape을 4차원으로 변환\n",
    "X_img = tf.reshape(x_train,[-1,28,28,1])\n",
    "print(X_img.shape) # (60000, 28, 28, 1)"
   ]
  },
  {
   "cell_type": "code",
   "execution_count": 5,
   "metadata": {
    "colab": {},
    "colab_type": "code",
    "executionInfo": {
     "elapsed": 8267,
     "status": "ok",
     "timestamp": 1598507516580,
     "user": {
      "displayName": "고병화",
      "photoUrl": "https://lh3.googleusercontent.com/a-/AOh14GgLZcAZyPt33HiIqtXjHiL8D4PIcVPdfLgODP1QBA=s64",
      "userId": "12645007744594631320"
     },
     "user_tz": -540
    },
    "id": "onWOypYndvsc"
   },
   "outputs": [],
   "source": [
    "# Layer 1 : conv2d - relu - max_pool\n",
    "# (?, 28, 28, 1) --> (?, 14, 14, 32)\n",
    "\n",
    "# <1> conv2d\n",
    "# L1 input image shape : (?, 28, 28, 1)\n",
    "# filter : (3,3,1,32), 필터 32개\n",
    "# strides : (1,1,1,1), padding='SAME'\n",
    "# 출력 이미지 : (28+2 - 3)/1 + 1 = 28\n",
    "# (?, 28, 28, 1) --> (?, 28, 28, 32)\n",
    "W1 = tf.Variable(tf.random.normal([3,3,1,32]),name='weight1')\n",
    "def L1_conv2d(X):\n",
    "    return tf.nn.conv2d(X,W1,strides=[1,1,1,1],padding='SAME')\n",
    "\n",
    "# <2> relu\n",
    "def L1_relu(X):\n",
    "    return tf.nn.relu(L1_conv2d(X))  # shape 변화가 없다\n",
    "\n",
    "# <3> max_pool\n",
    "# input image : (?, 28, 28, 32)\n",
    "# ksize : (1,2,2,1), strides : (1,2,2,1), padding='SAME'\n",
    "# 출력 이미지 : (28+1 - 2)/2 + 1 = 14\n",
    "#  (?, 28, 28, 32) -->  (?, 14, 14, 32)\n",
    "def L1_MaxPool(X):\n",
    "    return tf.nn.max_pool(L1_relu(X),ksize=[1,2,2,1],strides=[1,2,2,1],padding='SAME') "
   ]
  },
  {
   "cell_type": "code",
   "execution_count": 6,
   "metadata": {
    "colab": {},
    "colab_type": "code",
    "executionInfo": {
     "elapsed": 8265,
     "status": "ok",
     "timestamp": 1598507516582,
     "user": {
      "displayName": "고병화",
      "photoUrl": "https://lh3.googleusercontent.com/a-/AOh14GgLZcAZyPt33HiIqtXjHiL8D4PIcVPdfLgODP1QBA=s64",
      "userId": "12645007744594631320"
     },
     "user_tz": -540
    },
    "id": "iPEne5Pldvse"
   },
   "outputs": [],
   "source": [
    "# Layer 2 : conv2d - relu - max_pool\n",
    "# (?, 14, 14, 32) --> \n",
    "\n",
    "# <1> conv2d\n",
    "# L1 input image shape : (?, 14, 14, 32)\n",
    "# filter : (3,3,32,64), 필터 64개\n",
    "# strides : (1,1,1,1), padding='SAME'\n",
    "# 출력 이미지 : (14+2 - 3)/1 + 1 = 14\n",
    "# (?, 14, 14, 32) --> (?, 14,14,64)\n",
    "W2 = tf.Variable(tf.random.normal([3,3,32,64]),name='weight2') # filter\n",
    "def L2_conv2d(X):\n",
    "    return tf.nn.conv2d(L1_MaxPool(X),W2,strides=[1,1,1,1],padding='SAME')\n",
    "\n",
    "# <2> relu\n",
    "def L2_relu(X):\n",
    "    return tf.nn.relu(L2_conv2d(X))  # shape 변화가 없다\n",
    "\n",
    "# <3> max_pool\n",
    "# input image : (?, 14,14,64)\n",
    "# ksize : (1,2,2,1), strides : (1,2,2,1), padding='SAME'\n",
    "# 출력 이미지 : (14+1 - 2)/2 + 1 = 7\n",
    "#  (?, 14,14,64) -->  (?,7,7,64)\n",
    "def L2_MaxPool(X):\n",
    "    return tf.nn.max_pool(L2_relu(X),ksize=[1,2,2,1],strides=[1,2,2,1],padding='SAME') \n",
    "\n",
    "# <4> flatten layer : : 다차원 배열을 2차원으로 변환하여 FC layer에 전달한다\n",
    "def L2_flat(X):\n",
    "    return tf.reshape(L2_MaxPool(X),[-1,7*7*64])"
   ]
  },
  {
   "cell_type": "code",
   "execution_count": 7,
   "metadata": {
    "colab": {},
    "colab_type": "code",
    "executionInfo": {
     "elapsed": 8262,
     "status": "ok",
     "timestamp": 1598507516583,
     "user": {
      "displayName": "고병화",
      "photoUrl": "https://lh3.googleusercontent.com/a-/AOh14GgLZcAZyPt33HiIqtXjHiL8D4PIcVPdfLgODP1QBA=s64",
      "userId": "12645007744594631320"
     },
     "user_tz": -540
    },
    "id": "8UM2jq_Udvsg"
   },
   "outputs": [],
   "source": [
    "# Layer 3 : FC(Fully Connected Layer)\n",
    "# (?,7*7*64) * (7*7*64,10) = (?, 10)\n",
    "nb_classes = 10\n",
    "W3 = tf.Variable(tf.random.normal([7*7*64,nb_classes]), name='weight3')\n",
    "b = tf.Variable(tf.random.normal([nb_classes]), name='bias')"
   ]
  },
  {
   "cell_type": "code",
   "execution_count": 8,
   "metadata": {
    "colab": {},
    "colab_type": "code",
    "executionInfo": {
     "elapsed": 8259,
     "status": "ok",
     "timestamp": 1598507516584,
     "user": {
      "displayName": "고병화",
      "photoUrl": "https://lh3.googleusercontent.com/a-/AOh14GgLZcAZyPt33HiIqtXjHiL8D4PIcVPdfLgODP1QBA=s64",
      "userId": "12645007744594631320"
     },
     "user_tz": -540
    },
    "id": "UYUAJlL7dvsj"
   },
   "outputs": [],
   "source": [
    "# 예측 함수(hypothesis) : H(X) = softmax(W*X + b)\n",
    "def logits(X):\n",
    "    return tf.matmul(L2_flat(X),W3) + b\n",
    "\n",
    "def hypothesis(X):\n",
    "    return tf.nn.softmax(logits(X)) "
   ]
  },
  {
   "cell_type": "code",
   "execution_count": 9,
   "metadata": {
    "colab": {
     "base_uri": "https://localhost:8080/",
     "height": 916
    },
    "colab_type": "code",
    "executionInfo": {
     "elapsed": 73594,
     "status": "ok",
     "timestamp": 1598507581930,
     "user": {
      "displayName": "고병화",
      "photoUrl": "https://lh3.googleusercontent.com/a-/AOh14GgLZcAZyPt33HiIqtXjHiL8D4PIcVPdfLgODP1QBA=s64",
      "userId": "12645007744594631320"
     },
     "user_tz": -540
    },
    "id": "zm-FMHnAdvsl",
    "outputId": "7f559cf7-f220-40a3-99b7-65acfa6ac20a"
   },
   "outputs": [
    {
     "name": "stdout",
     "output_type": "stream",
     "text": [
      "***** Start Learning!!\n",
      "Epoch: 0001 cost: 16383.039578857\n",
      "Epoch: 0002 cost: 2612.309461060\n",
      "Epoch: 0003 cost: 1497.799978943\n",
      "Epoch: 0004 cost: 1016.022545471\n",
      "Epoch: 0005 cost: 762.403103333\n",
      "Epoch: 0006 cost: 594.441999969\n",
      "Epoch: 0007 cost: 469.972607269\n",
      "Epoch: 0008 cost: 374.820910301\n",
      "Epoch: 0009 cost: 315.593622055\n",
      "Epoch: 0010 cost: 255.059376221\n",
      "Epoch: 0011 cost: 220.784378786\n",
      "Epoch: 0012 cost: 183.944082718\n",
      "Epoch: 0013 cost: 152.364118290\n",
      "Epoch: 0014 cost: 120.224669628\n",
      "Epoch: 0015 cost: 101.386641527\n",
      "Epoch: 0016 cost: 84.201740351\n",
      "Epoch: 0017 cost: 66.925223198\n",
      "Epoch: 0018 cost: 58.610597228\n",
      "Epoch: 0019 cost: 55.745697738\n",
      "Epoch: 0020 cost: 51.593790932\n",
      "Epoch: 0021 cost: 41.742530194\n",
      "Epoch: 0022 cost: 39.083169661\n",
      "Epoch: 0023 cost: 32.825024528\n",
      "Epoch: 0024 cost: 24.700071046\n",
      "Epoch: 0025 cost: 19.160363450\n",
      "Epoch: 0026 cost: 17.340824557\n",
      "Epoch: 0027 cost: 15.413743403\n",
      "Epoch: 0028 cost: 12.984988203\n",
      "Epoch: 0029 cost: 12.401043625\n",
      "Epoch: 0030 cost: 10.303231232\n",
      "Epoch: 0031 cost: 10.328130737\n",
      "Epoch: 0032 cost: 6.602582391\n",
      "Epoch: 0033 cost: 7.263888270\n",
      "Epoch: 0034 cost: 5.192546200\n",
      "Epoch: 0035 cost: 4.824790432\n",
      "Epoch: 0036 cost: 5.331798890\n",
      "Epoch: 0037 cost: 7.807537444\n",
      "Epoch: 0038 cost: 7.604359735\n",
      "Epoch: 0039 cost: 5.442519846\n",
      "Epoch: 0040 cost: 5.198485826\n",
      "Epoch: 0041 cost: 3.554409083\n",
      "Epoch: 0042 cost: 4.841879711\n",
      "Epoch: 0043 cost: 4.918857660\n",
      "Epoch: 0044 cost: 4.872269193\n",
      "Epoch: 0045 cost: 5.391631539\n",
      "Epoch: 0046 cost: 10.006393310\n",
      "Epoch: 0047 cost: 5.857988707\n",
      "Epoch: 0048 cost: 7.307888168\n",
      "Epoch: 0049 cost: 8.093108963\n",
      "Epoch: 0050 cost: 14.979440940\n",
      "***** Learning Finished!!\n"
     ]
    }
   ],
   "source": [
    "# 방법 2. batch 사이즈로 나누어 학습, 효율적 이며 학습 시간 단축\n",
    "# 학습 시작\n",
    "\n",
    "training_epoch = 50\n",
    "batch_size = 600\n",
    "\n",
    "# 경사 하강법\n",
    "# learning_rate(학습율)을 0.01 로 설정하여 optimizer객체를 생성\n",
    "optimizer = tf.keras.optimizers.Adam(lr=0.01)\n",
    "\n",
    "Y_one_hot = tf.one_hot(y_train,nb_classes)   # (60000, 10)\n",
    "\n",
    "print('***** Start Learning!!')\n",
    "for epoch in range(training_epoch): # 50회\n",
    "    \n",
    "    avg_cost = 0\n",
    "    \n",
    "    # 100 = 60000/600\n",
    "    total_batch = int(x_train.shape[0]/batch_size)\n",
    "    for k in range(total_batch):  # 100회\n",
    "        batch_xs = x_train[0 + k*batch_size:batch_size + k*batch_size]   # 600개의 X 데이터\n",
    "        batch_ys = Y_one_hot[0 + k*batch_size:batch_size + k*batch_size] # 600개의 Y 데이터\n",
    "        \n",
    "        # X값의 shape을 4차원으로 변환\n",
    "        X_img = tf.reshape(batch_xs,[-1,28,28,1])\n",
    "\n",
    "        # 비용함수        \n",
    "        def cost_func_batch():\n",
    "            cost_i = tf.nn.softmax_cross_entropy_with_logits(logits = logits(X_img),\n",
    "                                             labels = batch_ys)\n",
    "            cost =  tf.reduce_mean(cost_i)\n",
    "            return cost\n",
    "        \n",
    "        # cost를 minimize 한다\n",
    "        optimizer.minimize(cost_func_batch,var_list=[W1,W2,W3,b])\n",
    "        avg_cost += cost_func_batch().numpy()/total_batch\n",
    "            \n",
    "    print('Epoch:','%04d'%(epoch + 1),'cost:','{:.9f}'.format(avg_cost))\n",
    "             \n",
    "print('***** Learning Finished!!')"
   ]
  },
  {
   "cell_type": "code",
   "execution_count": 10,
   "metadata": {
    "colab": {
     "base_uri": "https://localhost:8080/",
     "height": 69
    },
    "colab_type": "code",
    "executionInfo": {
     "elapsed": 73969,
     "status": "ok",
     "timestamp": 1598507582314,
     "user": {
      "displayName": "고병화",
      "photoUrl": "https://lh3.googleusercontent.com/a-/AOh14GgLZcAZyPt33HiIqtXjHiL8D4PIcVPdfLgODP1QBA=s64",
      "userId": "12645007744594631320"
     },
     "user_tz": -540
    },
    "id": "8itTLSUPdvso",
    "outputId": "d0e71192-8d6c-4732-b86a-64f2b90a8660",
    "scrolled": true
   },
   "outputs": [
    {
     "name": "stdout",
     "output_type": "stream",
     "text": [
      "Accuracy: 0.9831\n",
      "***** Predict\n",
      "[7 2 1 ... 4 5 6] [7 2 1 ... 4 5 6]\n"
     ]
    }
   ],
   "source": [
    "# 정확도 측정 : accuracy computation\n",
    "\n",
    "# y_test 값의 one-hot 인코딩\n",
    "Y_one_hot = tf.one_hot(y_test,nb_classes)    # (10000,10)\n",
    "# print(Y_one_hot.shape)                       # (10000,10)  , (2차원)\n",
    "\n",
    "# tf.argmax() : 값이 가장 큰 요소의 인덱스 값을 반환\n",
    "def predict(X):\n",
    "    return tf.argmax(hypothesis(X),axis=1)\n",
    "\n",
    "# X값의 shape을 4차원으로 변환\n",
    "X_img = tf.reshape(x_test,[-1,28,28,1])\n",
    "        \n",
    "correct_predict = tf.equal(predict(X_img),tf.argmax(Y_one_hot,1))\n",
    "accuracy = tf.reduce_mean(tf.cast(correct_predict, dtype = tf.float32))\n",
    "print(\"Accuracy:\",accuracy.numpy()) # Accuracy: 0.9534\n",
    "\n",
    "#예측\n",
    "print('***** Predict')\n",
    "pred = predict(X_img).numpy()\n",
    "print(pred,y_test)"
   ]
  },
  {
   "cell_type": "code",
   "execution_count": 11,
   "metadata": {
    "colab": {},
    "colab_type": "code",
    "executionInfo": {
     "elapsed": 73965,
     "status": "ok",
     "timestamp": 1598507582315,
     "user": {
      "displayName": "고병화",
      "photoUrl": "https://lh3.googleusercontent.com/a-/AOh14GgLZcAZyPt33HiIqtXjHiL8D4PIcVPdfLgODP1QBA=s64",
      "userId": "12645007744594631320"
     },
     "user_tz": -540
    },
    "id": "LoxLOTMbdvsq"
   },
   "outputs": [],
   "source": [
    "# 정확도 비교\n",
    "\n",
    "# [1] softmax 사용\n",
    "# 1 layers              -------> Accuracy  : 0.8871\n",
    "# 4 layers  sigmoid     -------> Accuracy  : 0.9033\n",
    "# 4 layers  relu        -------> Accuracy  : 0.9534  \n",
    "\n",
    "# [2] CNN 사용\n",
    "# 3 layers              -------> Accuracy  : 0.9721  (epoch=15)\n",
    "# 3 layers              -------> Accuracy  : 0.9831  (epoch=50)\n",
    "# 5 layers              -------> Accuracy  :         (epoch=50)"
   ]
  }
 ],
 "metadata": {
  "accelerator": "GPU",
  "colab": {
   "collapsed_sections": [],
   "name": "02_mnist_cnn.ipynb",
   "provenance": []
  },
  "kernelspec": {
   "display_name": "Python 3",
   "language": "python",
   "name": "python3"
  },
  "language_info": {
   "codemirror_mode": {
    "name": "ipython",
    "version": 3
   },
   "file_extension": ".py",
   "mimetype": "text/x-python",
   "name": "python",
   "nbconvert_exporter": "python",
   "pygments_lexer": "ipython3",
   "version": "3.7.7"
  }
 },
 "nbformat": 4,
 "nbformat_minor": 0
}
