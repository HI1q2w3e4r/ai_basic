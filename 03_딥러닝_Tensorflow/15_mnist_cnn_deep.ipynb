{
 "cells": [
  {
   "cell_type": "code",
   "execution_count": 1,
   "metadata": {
    "colab": {},
    "colab_type": "code",
    "executionInfo": {
     "elapsed": 2725,
     "status": "ok",
     "timestamp": 1598511030591,
     "user": {
      "displayName": "고병화",
      "photoUrl": "https://lh3.googleusercontent.com/a-/AOh14GgLZcAZyPt33HiIqtXjHiL8D4PIcVPdfLgODP1QBA=s64",
      "userId": "12645007744594631320"
     },
     "user_tz": -540
    },
    "id": "eSHTNVI6dvsQ"
   },
   "outputs": [],
   "source": [
    "# mnist_cnn_deep\n",
    "# MNIST and Convolutional Neural Network\n",
    "# L1,L2,L3 : conv2d + relu + max_pool \n",
    "# L4,L5 : FC(Fully Connected Layer)\n",
    "\n",
    "import tensorflow as tf\n",
    "import numpy as np\n",
    "import matplotlib.pyplot as plt\n",
    "tf.random.set_seed(5)"
   ]
  },
  {
   "cell_type": "code",
   "execution_count": 2,
   "metadata": {
    "colab": {
     "base_uri": "https://localhost:8080/",
     "height": 34
    },
    "colab_type": "code",
    "executionInfo": {
     "elapsed": 2717,
     "status": "ok",
     "timestamp": 1598511030593,
     "user": {
      "displayName": "고병화",
      "photoUrl": "https://lh3.googleusercontent.com/a-/AOh14GgLZcAZyPt33HiIqtXjHiL8D4PIcVPdfLgODP1QBA=s64",
      "userId": "12645007744594631320"
     },
     "user_tz": -540
    },
    "id": "gXSSfDmPdvsU",
    "outputId": "e07210f6-7e0a-486f-fc03-b7b8780d16a8"
   },
   "outputs": [
    {
     "name": "stdout",
     "output_type": "stream",
     "text": [
      "(60000, 28, 28)\n"
     ]
    }
   ],
   "source": [
    "# mnist 데이터 가져오기\n",
    "mnist = tf.keras.datasets.mnist\n",
    "(x_train,y_train),(x_test,y_test) = mnist.load_data()\n",
    "print(x_train.shape)"
   ]
  },
  {
   "cell_type": "code",
   "execution_count": 3,
   "metadata": {
    "colab": {
     "base_uri": "https://localhost:8080/",
     "height": 69
    },
    "colab_type": "code",
    "executionInfo": {
     "elapsed": 3837,
     "status": "ok",
     "timestamp": 1598511031719,
     "user": {
      "displayName": "고병화",
      "photoUrl": "https://lh3.googleusercontent.com/a-/AOh14GgLZcAZyPt33HiIqtXjHiL8D4PIcVPdfLgODP1QBA=s64",
      "userId": "12645007744594631320"
     },
     "user_tz": -540
    },
    "id": "jai7bCIvdvsX",
    "outputId": "64f7bacd-46e6-495f-b68f-306bbe0e136d"
   },
   "outputs": [
    {
     "name": "stdout",
     "output_type": "stream",
     "text": [
      "(60000, 10)\n",
      "(60000, 28, 28) <dtype: 'float32'>\n",
      "(10000, 28, 28) <dtype: 'float32'>\n"
     ]
    }
   ],
   "source": [
    "# one-hot 인코딩\n",
    "nb_classes = 10  # 분류 class의 갯수(0~9)\n",
    "\n",
    "Y_one_hot = tf.one_hot(y_train,nb_classes)   # (60000, 10)\n",
    "print(Y_one_hot.shape)                       # (60000, 10) , (2차원)\n",
    "\n",
    "# X값의 타입을 float형으로 변환\n",
    "x_train = tf.cast(x_train,dtype=tf.float32)\n",
    "print(x_train.shape,x_train.dtype)\n",
    "\n",
    "x_test = tf.cast(x_test,dtype=tf.float32)\n",
    "print(x_test.shape,x_test.dtype)"
   ]
  },
  {
   "cell_type": "code",
   "execution_count": 4,
   "metadata": {
    "colab": {
     "base_uri": "https://localhost:8080/",
     "height": 34
    },
    "colab_type": "code",
    "executionInfo": {
     "elapsed": 3830,
     "status": "ok",
     "timestamp": 1598511031720,
     "user": {
      "displayName": "고병화",
      "photoUrl": "https://lh3.googleusercontent.com/a-/AOh14GgLZcAZyPt33HiIqtXjHiL8D4PIcVPdfLgODP1QBA=s64",
      "userId": "12645007744594631320"
     },
     "user_tz": -540
    },
    "id": "xsEoo0k0dvsa",
    "outputId": "4984b0b2-c44f-4d35-ebfd-3005e0d63f03"
   },
   "outputs": [
    {
     "name": "stdout",
     "output_type": "stream",
     "text": [
      "(60000, 28, 28, 1)\n"
     ]
    }
   ],
   "source": [
    "# X값의 shape을 4차원으로 변환\n",
    "X_img = tf.reshape(x_train,[-1,28,28,1])\n",
    "print(X_img.shape) # (60000, 28, 28, 1)"
   ]
  },
  {
   "cell_type": "code",
   "execution_count": 5,
   "metadata": {
    "colab": {},
    "colab_type": "code",
    "executionInfo": {
     "elapsed": 3820,
     "status": "ok",
     "timestamp": 1598511031720,
     "user": {
      "displayName": "고병화",
      "photoUrl": "https://lh3.googleusercontent.com/a-/AOh14GgLZcAZyPt33HiIqtXjHiL8D4PIcVPdfLgODP1QBA=s64",
      "userId": "12645007744594631320"
     },
     "user_tz": -540
    },
    "id": "onWOypYndvsc"
   },
   "outputs": [],
   "source": [
    "# Layer 1 : conv2d - relu - max_pool\n",
    "# (?, 28, 28, 1) --> (?, 14, 14, 32)\n",
    "\n",
    "# <1> conv2d\n",
    "# L1 input image shape : (?, 28, 28, 1)\n",
    "# filter : (3,3,1,32), 필터 32개\n",
    "# strides : (1,1,1,1), padding='SAME'\n",
    "# 출력 이미지 : (28+2 - 3)/1 + 1 = 28\n",
    "# (?, 28, 28, 1) --> (?, 28, 28, 32)\n",
    "W1 = tf.Variable(tf.random.normal([3,3,1,32]),name='weight1')\n",
    "def L1_conv2d(X):\n",
    "    return tf.nn.conv2d(X,W1,strides=[1,1,1,1],padding='SAME')\n",
    "\n",
    "# <2> relu\n",
    "def L1_relu(X):\n",
    "    return tf.nn.relu(L1_conv2d(X))  # shape 변화가 없다\n",
    "\n",
    "# <3> max_pool\n",
    "# input image : (?, 28, 28, 32)\n",
    "# ksize : (1,2,2,1), strides : (1,2,2,1), padding='SAME'\n",
    "# 출력 이미지 : (28+1 - 2)/2 + 1 = 14\n",
    "#  (?, 28, 28, 32) -->  (?, 14, 14, 32)\n",
    "def L1_MaxPool(X):\n",
    "    return tf.nn.max_pool(L1_relu(X),ksize=[1,2,2,1],strides=[1,2,2,1],padding='SAME') "
   ]
  },
  {
   "cell_type": "code",
   "execution_count": 6,
   "metadata": {
    "colab": {},
    "colab_type": "code",
    "executionInfo": {
     "elapsed": 3815,
     "status": "ok",
     "timestamp": 1598511031722,
     "user": {
      "displayName": "고병화",
      "photoUrl": "https://lh3.googleusercontent.com/a-/AOh14GgLZcAZyPt33HiIqtXjHiL8D4PIcVPdfLgODP1QBA=s64",
      "userId": "12645007744594631320"
     },
     "user_tz": -540
    },
    "id": "iPEne5Pldvse"
   },
   "outputs": [],
   "source": [
    "# Layer 2 : conv2d - relu - max_pool\n",
    "# (?, 14, 14, 32) --> (?,7,7,64)\n",
    "\n",
    "# <1> conv2d\n",
    "# L1 input image shape : (?, 14, 14, 32)\n",
    "# filter : (3,3,32,64), 필터 64개\n",
    "# strides : (1,1,1,1), padding='SAME'\n",
    "# 출력 이미지 : (14+2 - 3)/1 + 1 = 14\n",
    "# (?, 14, 14, 32) --> (?, 14,14,64)\n",
    "W2 = tf.Variable(tf.random.normal([3,3,32,64]),name='weight2') # filter\n",
    "def L2_conv2d(X):\n",
    "    return tf.nn.conv2d(L1_MaxPool(X),W2,strides=[1,1,1,1],padding='SAME')\n",
    "\n",
    "# <2> relu\n",
    "def L2_relu(X):\n",
    "    return tf.nn.relu(L2_conv2d(X))  # shape 변화가 없다\n",
    "\n",
    "# <3> max_pool\n",
    "# input image : (?, 14,14,64)\n",
    "# ksize : (1,2,2,1), strides : (1,2,2,1), padding='SAME'\n",
    "# 출력 이미지 : (14+1 - 2)/2 + 1 = 7\n",
    "#  (?, 14,14,64) -->  (?,7,7,64)\n",
    "def L2_MaxPool(X):\n",
    "    return tf.nn.max_pool(L2_relu(X),ksize=[1,2,2,1],strides=[1,2,2,1],padding='SAME') "
   ]
  },
  {
   "cell_type": "code",
   "execution_count": 7,
   "metadata": {
    "colab": {},
    "colab_type": "code",
    "executionInfo": {
     "elapsed": 3811,
     "status": "ok",
     "timestamp": 1598511031723,
     "user": {
      "displayName": "고병화",
      "photoUrl": "https://lh3.googleusercontent.com/a-/AOh14GgLZcAZyPt33HiIqtXjHiL8D4PIcVPdfLgODP1QBA=s64",
      "userId": "12645007744594631320"
     },
     "user_tz": -540
    },
    "id": "UQIykGRzpwan"
   },
   "outputs": [],
   "source": [
    "# Layer 3 : conv2d - relu - max_pool\n",
    "# (?,7,7,64) --> \n",
    "\n",
    "# <1> conv2d\n",
    "# L1 input image shape : (?,7,7,64)\n",
    "# filter : (3,3,64,128), 필터 128개\n",
    "# strides : (1,1,1,1), padding='SAME'\n",
    "# 출력 이미지 : (7+2 - 3)/1 + 1 = 7\n",
    "# (?,7,7,64) --> (?,7,7,128)\n",
    "W3 = tf.Variable(tf.random.normal([3,3,64,128]),name='weight3') # filter\n",
    "def L3_conv2d(X):\n",
    "    return tf.nn.conv2d(L2_MaxPool(X),W3,strides=[1,1,1,1],padding='SAME')\n",
    "\n",
    "# <2> relu\n",
    "def L3_relu(X):\n",
    "    return tf.nn.relu(L3_conv2d(X))  # shape 변화가 없다\n",
    "\n",
    "# <3> max_pool\n",
    "# input image : (?,7,7,128)\n",
    "# ksize : (1,2,2,1), strides : (1,2,2,1), padding='SAME'\n",
    "# 출력 이미지 : (7+1 - 2)/2 + 1 = 4\n",
    "#  (?,7,7,128) -->  (?,4,4,128)\n",
    "def L3_MaxPool(X):\n",
    "    return tf.nn.max_pool(L3_relu(X),ksize=[1,2,2,1],strides=[1,2,2,1],padding='SAME') \n",
    "\n",
    "# <4> flatten layer : 다차원 배열을 2차원으로 변환하여 FC layer에 전달한다\n",
    "def L3_flat(X):\n",
    "    return tf.reshape(L3_MaxPool(X),[-1,4*4*128])"
   ]
  },
  {
   "cell_type": "code",
   "execution_count": 8,
   "metadata": {
    "colab": {},
    "colab_type": "code",
    "executionInfo": {
     "elapsed": 3804,
     "status": "ok",
     "timestamp": 1598511031723,
     "user": {
      "displayName": "고병화",
      "photoUrl": "https://lh3.googleusercontent.com/a-/AOh14GgLZcAZyPt33HiIqtXjHiL8D4PIcVPdfLgODP1QBA=s64",
      "userId": "12645007744594631320"
     },
     "user_tz": -540
    },
    "id": "8UM2jq_Udvsg"
   },
   "outputs": [],
   "source": [
    "# Layer 4 : FC(Fully Connected Layer)\n",
    "# (?,4*4*128) * (4*4*128,512) = (?, 512)\n",
    "# nb_classes = 10\n",
    "W4 = tf.Variable(tf.random.normal([4*4*128,512]), name='weight4')\n",
    "b4 = tf.Variable(tf.random.normal([512]), name='bias4')\n",
    "def L4_relu(X):\n",
    "    return  tf.nn.relu(tf.matmul(L3_flat(X),W4) + b4) "
   ]
  },
  {
   "cell_type": "code",
   "execution_count": 9,
   "metadata": {
    "colab": {},
    "colab_type": "code",
    "executionInfo": {
     "elapsed": 3799,
     "status": "ok",
     "timestamp": 1598511031724,
     "user": {
      "displayName": "고병화",
      "photoUrl": "https://lh3.googleusercontent.com/a-/AOh14GgLZcAZyPt33HiIqtXjHiL8D4PIcVPdfLgODP1QBA=s64",
      "userId": "12645007744594631320"
     },
     "user_tz": -540
    },
    "id": "24gLpRclpwat"
   },
   "outputs": [],
   "source": [
    "# Layer 5 : FC(Fully Connected Layer), Final Output layer\n",
    "# (?, 512) * (512,10) = (?,10)\n",
    "nb_classes = 10\n",
    "W5 = tf.Variable(tf.random.normal([512,nb_classes]), name='weight5')\n",
    "b5 = tf.Variable(tf.random.normal([nb_classes]), name='bias5')"
   ]
  },
  {
   "cell_type": "code",
   "execution_count": 10,
   "metadata": {
    "colab": {},
    "colab_type": "code",
    "executionInfo": {
     "elapsed": 3794,
     "status": "ok",
     "timestamp": 1598511031725,
     "user": {
      "displayName": "고병화",
      "photoUrl": "https://lh3.googleusercontent.com/a-/AOh14GgLZcAZyPt33HiIqtXjHiL8D4PIcVPdfLgODP1QBA=s64",
      "userId": "12645007744594631320"
     },
     "user_tz": -540
    },
    "id": "UYUAJlL7dvsj"
   },
   "outputs": [],
   "source": [
    "# 예측 함수(hypothesis) : H(X) = softmax(W*X + b)\n",
    "def logits(X):\n",
    "    return tf.matmul(L4_relu(X),W5) + b5\n",
    "\n",
    "def hypothesis(X):\n",
    "    return tf.nn.softmax(logits(X)) "
   ]
  },
  {
   "cell_type": "code",
   "execution_count": 11,
   "metadata": {
    "colab": {
     "base_uri": "https://localhost:8080/",
     "height": 1000
    },
    "colab_type": "code",
    "executionInfo": {
     "elapsed": 630341,
     "status": "ok",
     "timestamp": 1598511658278,
     "user": {
      "displayName": "고병화",
      "photoUrl": "https://lh3.googleusercontent.com/a-/AOh14GgLZcAZyPt33HiIqtXjHiL8D4PIcVPdfLgODP1QBA=s64",
      "userId": "12645007744594631320"
     },
     "user_tz": -540
    },
    "id": "zm-FMHnAdvsl",
    "outputId": "2da0723d-e4fe-4119-c456-ee285d415c35"
   },
   "outputs": [
    {
     "name": "stdout",
     "output_type": "stream",
     "text": [
      "***** Start Learning!!\n",
      "Epoch: 0001 cost: 8709073.983750002\n",
      "Epoch: 0002 cost: 227079.797578125\n",
      "Epoch: 0003 cost: 122534.905000000\n",
      "Epoch: 0004 cost: 76981.839384766\n",
      "Epoch: 0005 cost: 51907.222233887\n",
      "Epoch: 0006 cost: 38125.823151855\n",
      "Epoch: 0007 cost: 28622.114611816\n",
      "Epoch: 0008 cost: 21866.416998291\n",
      "Epoch: 0009 cost: 17137.986146240\n",
      "Epoch: 0010 cost: 15680.318120728\n",
      "Epoch: 0011 cost: 14245.343514404\n",
      "Epoch: 0012 cost: 9992.847872314\n",
      "Epoch: 0013 cost: 6773.984715576\n",
      "Epoch: 0014 cost: 3419.752306366\n",
      "Epoch: 0015 cost: 2303.836905680\n",
      "Epoch: 0016 cost: 1656.126731968\n",
      "Epoch: 0017 cost: 1110.009432774\n",
      "Epoch: 0018 cost: 650.203348427\n",
      "Epoch: 0019 cost: 494.590274677\n",
      "Epoch: 0020 cost: 401.316087284\n",
      "Epoch: 0021 cost: 611.005848670\n",
      "Epoch: 0022 cost: 723.621762061\n",
      "Epoch: 0023 cost: 538.686541176\n",
      "Epoch: 0024 cost: 519.634434395\n",
      "Epoch: 0025 cost: 324.457830639\n",
      "Epoch: 0026 cost: 479.727143459\n",
      "Epoch: 0027 cost: 657.648935547\n",
      "Epoch: 0028 cost: 508.156076603\n",
      "Epoch: 0029 cost: 1913.032069244\n",
      "Epoch: 0030 cost: 1867.614543943\n",
      "Epoch: 0031 cost: 691.636736546\n",
      "Epoch: 0032 cost: 767.128797798\n",
      "Epoch: 0033 cost: 1078.116867752\n",
      "Epoch: 0034 cost: 954.870654526\n",
      "Epoch: 0035 cost: 762.870277758\n",
      "Epoch: 0036 cost: 1077.757792406\n",
      "Epoch: 0037 cost: 581.129026146\n",
      "Epoch: 0038 cost: 509.410987644\n",
      "Epoch: 0039 cost: 1020.075660286\n",
      "Epoch: 0040 cost: 1055.424808273\n",
      "Epoch: 0041 cost: 660.303710575\n",
      "Epoch: 0042 cost: 1298.049414310\n",
      "Epoch: 0043 cost: 1889.214076307\n",
      "Epoch: 0044 cost: 1461.933303528\n",
      "Epoch: 0045 cost: 776.056419363\n",
      "Epoch: 0046 cost: 563.040066490\n",
      "Epoch: 0047 cost: 1154.956806774\n",
      "Epoch: 0048 cost: 1396.728029785\n",
      "Epoch: 0049 cost: 1115.816708622\n",
      "Epoch: 0050 cost: 567.883848610\n",
      "Epoch: 0051 cost: 897.351024204\n",
      "Epoch: 0052 cost: 928.666649189\n",
      "Epoch: 0053 cost: 1361.639153099\n",
      "Epoch: 0054 cost: 995.143039055\n",
      "Epoch: 0055 cost: 452.992310448\n",
      "Epoch: 0056 cost: 596.394318304\n",
      "Epoch: 0057 cost: 461.222713051\n",
      "Epoch: 0058 cost: 1812.030502930\n",
      "Epoch: 0059 cost: 585.177893372\n",
      "Epoch: 0060 cost: 818.879394341\n",
      "Epoch: 0061 cost: 710.254558601\n",
      "Epoch: 0062 cost: 692.104377289\n",
      "Epoch: 0063 cost: 778.315016861\n",
      "Epoch: 0064 cost: 497.842982025\n",
      "Epoch: 0065 cost: 656.282537079\n",
      "Epoch: 0066 cost: 717.281197340\n",
      "Epoch: 0067 cost: 1591.959347076\n",
      "Epoch: 0068 cost: 484.123142805\n",
      "Epoch: 0069 cost: 390.110956154\n",
      "Epoch: 0070 cost: 507.918661079\n",
      "Epoch: 0071 cost: 327.523049812\n",
      "Epoch: 0072 cost: 440.631577225\n",
      "Epoch: 0073 cost: 445.971642661\n",
      "Epoch: 0074 cost: 278.262819877\n",
      "Epoch: 0075 cost: 980.481159363\n",
      "Epoch: 0076 cost: 484.297716894\n",
      "Epoch: 0077 cost: 649.945196800\n",
      "Epoch: 0078 cost: 276.774957504\n",
      "Epoch: 0079 cost: 298.650340538\n",
      "Epoch: 0080 cost: 439.040055542\n",
      "Epoch: 0081 cost: 615.789609222\n",
      "Epoch: 0082 cost: 275.822961731\n",
      "Epoch: 0083 cost: 593.395778618\n",
      "Epoch: 0084 cost: 1042.033581324\n",
      "Epoch: 0085 cost: 283.630876617\n",
      "Epoch: 0086 cost: 539.694515533\n",
      "Epoch: 0087 cost: 486.166304588\n",
      "Epoch: 0088 cost: 325.488711987\n",
      "Epoch: 0089 cost: 194.008016891\n",
      "Epoch: 0090 cost: 787.037787971\n",
      "Epoch: 0091 cost: 493.537783232\n",
      "Epoch: 0092 cost: 316.080643005\n",
      "Epoch: 0093 cost: 159.442054777\n",
      "Epoch: 0094 cost: 167.570118103\n",
      "Epoch: 0095 cost: 149.037358360\n",
      "Epoch: 0096 cost: 150.536625328\n",
      "Epoch: 0097 cost: 315.725574973\n",
      "Epoch: 0098 cost: 351.742502365\n",
      "Epoch: 0099 cost: 194.193635864\n",
      "Epoch: 0100 cost: 200.753650818\n",
      "***** Learning Finished!!\n"
     ]
    }
   ],
   "source": [
    "# 방법 2. batch 사이즈로 나누어 학습, 효율적 이며 학습 시간 단축\n",
    "# 학습 시작\n",
    "\n",
    "training_epoch = 100\n",
    "batch_size = 600\n",
    "\n",
    "# 경사 하강법\n",
    "# learning_rate(학습율)을 0.01 로 설정하여 optimizer객체를 생성\n",
    "optimizer = tf.keras.optimizers.Adam(lr=0.01)\n",
    "\n",
    "Y_one_hot = tf.one_hot(y_train,nb_classes)   # (60000, 10)\n",
    "\n",
    "print('***** Start Learning!!')\n",
    "for epoch in range(training_epoch): # 100회\n",
    "    \n",
    "    avg_cost = 0\n",
    "    \n",
    "    # 100 = 60000/600\n",
    "    total_batch = int(x_train.shape[0]/batch_size)\n",
    "    for k in range(total_batch):  # 100회\n",
    "        batch_xs = x_train[0 + k*batch_size:batch_size + k*batch_size]   # 600개의 X 데이터\n",
    "        batch_ys = Y_one_hot[0 + k*batch_size:batch_size + k*batch_size] # 600개의 Y 데이터\n",
    "        \n",
    "        # X값의 shape을 4차원으로 변환\n",
    "        X_img = tf.reshape(batch_xs,[-1,28,28,1])\n",
    "\n",
    "        # 비용함수        \n",
    "        def cost_func_batch():\n",
    "            cost_i = tf.nn.softmax_cross_entropy_with_logits(logits = logits(X_img),\n",
    "                                             labels = batch_ys)\n",
    "            cost =  tf.reduce_mean(cost_i)\n",
    "            return cost\n",
    "        \n",
    "        # cost를 minimize 한다\n",
    "        optimizer.minimize(cost_func_batch,var_list=[W1,W2,W3,W4,b4,W5,b5])\n",
    "        avg_cost += cost_func_batch().numpy()/total_batch\n",
    "            \n",
    "    print('Epoch:','%04d'%(epoch + 1),'cost:','{:.9f}'.format(avg_cost))\n",
    "             \n",
    "print('***** Learning Finished!!')"
   ]
  },
  {
   "cell_type": "code",
   "execution_count": 12,
   "metadata": {
    "colab": {
     "base_uri": "https://localhost:8080/",
     "height": 69
    },
    "colab_type": "code",
    "executionInfo": {
     "elapsed": 632036,
     "status": "ok",
     "timestamp": 1598511659981,
     "user": {
      "displayName": "고병화",
      "photoUrl": "https://lh3.googleusercontent.com/a-/AOh14GgLZcAZyPt33HiIqtXjHiL8D4PIcVPdfLgODP1QBA=s64",
      "userId": "12645007744594631320"
     },
     "user_tz": -540
    },
    "id": "8itTLSUPdvso",
    "outputId": "f318bec9-76ca-42b2-e372-4470e05e7d83",
    "scrolled": true
   },
   "outputs": [
    {
     "name": "stdout",
     "output_type": "stream",
     "text": [
      "Accuracy: 0.9876\n",
      "***** Predict\n",
      "[7 2 1 ... 4 5 6] [7 2 1 ... 4 5 6]\n"
     ]
    }
   ],
   "source": [
    "# 정확도 측정 : accuracy computation\n",
    "\n",
    "# y_test 값의 one-hot 인코딩\n",
    "Y_one_hot = tf.one_hot(y_test,nb_classes)    # (10000,10)\n",
    "# print(Y_one_hot.shape)                       # (10000,10)  , (2차원)\n",
    "\n",
    "# tf.argmax() : 값이 가장 큰 요소의 인덱스 값을 반환\n",
    "def predict(X):\n",
    "    return tf.argmax(hypothesis(X),axis=1)\n",
    "\n",
    "# X값의 shape을 4차원으로 변환\n",
    "X_img = tf.reshape(x_test,[-1,28,28,1])\n",
    "        \n",
    "correct_predict = tf.equal(predict(X_img),tf.argmax(Y_one_hot,1))\n",
    "accuracy = tf.reduce_mean(tf.cast(correct_predict, dtype = tf.float32))\n",
    "print(\"Accuracy:\",accuracy.numpy()) # Accuracy: 0.9534\n",
    "\n",
    "#예측\n",
    "print('***** Predict')\n",
    "pred = predict(X_img).numpy()\n",
    "print(pred,y_test)"
   ]
  },
  {
   "cell_type": "code",
   "execution_count": 13,
   "metadata": {
    "colab": {},
    "colab_type": "code",
    "executionInfo": {
     "elapsed": 632032,
     "status": "ok",
     "timestamp": 1598511659983,
     "user": {
      "displayName": "고병화",
      "photoUrl": "https://lh3.googleusercontent.com/a-/AOh14GgLZcAZyPt33HiIqtXjHiL8D4PIcVPdfLgODP1QBA=s64",
      "userId": "12645007744594631320"
     },
     "user_tz": -540
    },
    "id": "LoxLOTMbdvsq"
   },
   "outputs": [],
   "source": [
    "# 정확도 비교\n",
    "\n",
    "# [1] softmax 사용\n",
    "# 1 layers              -------> Accuracy  : 0.8871\n",
    "# 4 layers  sigmoid     -------> Accuracy  : 0.9033\n",
    "# 4 layers  relu        -------> Accuracy  : 0.9534  \n",
    "\n",
    "# [2] CNN 사용\n",
    "# 3 layers              -------> Accuracy  : 0.9721  (epoch=15)\n",
    "# 3 layers              -------> Accuracy  : 0.9831  (epoch=50)\n",
    "# 5 layers              -------> Accuracy  : 0.9824  (epoch=50)\n",
    "# 5 layers              -------> Accuracy  : 0.9876  (epoch=100)\n",
    "\n",
    "# [3] Keras에서 CNN 사용\n",
    "#\n",
    "# VGGNet style          -------> Accuracy  :          "
   ]
  }
 ],
 "metadata": {
  "accelerator": "GPU",
  "colab": {
   "collapsed_sections": [],
   "name": "03_mnist_cnn_deep.ipynb",
   "provenance": []
  },
  "kernelspec": {
   "display_name": "Python 3",
   "language": "python",
   "name": "python3"
  },
  "language_info": {
   "codemirror_mode": {
    "name": "ipython",
    "version": 3
   },
   "file_extension": ".py",
   "mimetype": "text/x-python",
   "name": "python",
   "nbconvert_exporter": "python",
   "pygments_lexer": "ipython3",
   "version": "3.7.7"
  }
 },
 "nbformat": 4,
 "nbformat_minor": 0
}
