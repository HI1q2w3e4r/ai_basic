{
 "cells": [
  {
   "cell_type": "code",
   "execution_count": 1,
   "metadata": {
    "colab": {
     "base_uri": "https://localhost:8080/",
     "height": 52
    },
    "colab_type": "code",
    "executionInfo": {
     "elapsed": 2720,
     "status": "ok",
     "timestamp": 1598595512102,
     "user": {
      "displayName": "고병화",
      "photoUrl": "https://lh3.googleusercontent.com/a-/AOh14GgLZcAZyPt33HiIqtXjHiL8D4PIcVPdfLgODP1QBA=s64",
      "userId": "12645007744594631320"
     },
     "user_tz": -540
    },
    "id": "n60v6lCXpvNF",
    "outputId": "0085ee76-054a-4f08-adb9-0191b9911835"
   },
   "outputs": [
    {
     "name": "stdout",
     "output_type": "stream",
     "text": [
      "2.3.0\n",
      "2.4.0\n"
     ]
    }
   ],
   "source": [
    "# mnist_cnn_keras\n",
    "import tensorflow as tf\n",
    "import numpy as np\n",
    "import matplotlib.pyplot as plt\n",
    "\n",
    "print(tf.__version__)\n",
    "print(tf.keras.__version__)"
   ]
  },
  {
   "cell_type": "code",
   "execution_count": 2,
   "metadata": {
    "colab": {
     "base_uri": "https://localhost:8080/",
     "height": 52
    },
    "colab_type": "code",
    "executionInfo": {
     "elapsed": 3635,
     "status": "ok",
     "timestamp": 1598595513026,
     "user": {
      "displayName": "고병화",
      "photoUrl": "https://lh3.googleusercontent.com/a-/AOh14GgLZcAZyPt33HiIqtXjHiL8D4PIcVPdfLgODP1QBA=s64",
      "userId": "12645007744594631320"
     },
     "user_tz": -540
    },
    "id": "MzNH8Hw1pvNK",
    "outputId": "ed9f6a71-ec50-4db8-f9ee-bb1638b5f2ae"
   },
   "outputs": [
    {
     "name": "stdout",
     "output_type": "stream",
     "text": [
      "(60000, 28, 28, 1) (10000, 28, 28, 1)\n",
      "(60000,) (10000,)\n"
     ]
    }
   ],
   "source": [
    "# mnist 데이터 가져오기\n",
    "mnist = tf.keras.datasets.mnist\n",
    "(x_train,y_train),(x_test,y_test) = mnist.load_data()\n",
    "\n",
    "# X값의 타입을 float형으로 변환\n",
    "x_train = tf.cast(x_train,dtype=tf.float32)\n",
    "x_test = tf.cast(x_test,dtype=tf.float32)\n",
    "\n",
    "# X값의 shape을 4차원으로 변환\n",
    "x_train = tf.reshape(x_train,[-1,28,28,1])\n",
    "x_test = tf.reshape(x_test,[-1,28,28,1])\n",
    "\n",
    "print(x_train.shape, x_test.shape)\n",
    "print(y_train.shape, y_test.shape)"
   ]
  },
  {
   "cell_type": "code",
   "execution_count": 3,
   "metadata": {
    "colab": {
     "base_uri": "https://localhost:8080/",
     "height": 536
    },
    "colab_type": "code",
    "executionInfo": {
     "elapsed": 3628,
     "status": "ok",
     "timestamp": 1598595513027,
     "user": {
      "displayName": "고병화",
      "photoUrl": "https://lh3.googleusercontent.com/a-/AOh14GgLZcAZyPt33HiIqtXjHiL8D4PIcVPdfLgODP1QBA=s64",
      "userId": "12645007744594631320"
     },
     "user_tz": -540
    },
    "id": "nSby-rmapvNP",
    "outputId": "3409458d-3413-447c-80d3-088f58ab83d1"
   },
   "outputs": [
    {
     "name": "stdout",
     "output_type": "stream",
     "text": [
      "Model: \"sequential\"\n",
      "_________________________________________________________________\n",
      "Layer (type)                 Output Shape              Param #   \n",
      "=================================================================\n",
      "conv2d (Conv2D)              (None, 28, 28, 32)        320       \n",
      "_________________________________________________________________\n",
      "dense (Dense)                (None, 28, 28, 10)        330       \n",
      "_________________________________________________________________\n",
      "max_pooling2d (MaxPooling2D) (None, 14, 14, 10)        0         \n",
      "_________________________________________________________________\n",
      "conv2d_1 (Conv2D)            (None, 14, 14, 64)        5824      \n",
      "_________________________________________________________________\n",
      "dense_1 (Dense)              (None, 14, 14, 10)        650       \n",
      "_________________________________________________________________\n",
      "max_pooling2d_1 (MaxPooling2 (None, 7, 7, 10)          0         \n",
      "_________________________________________________________________\n",
      "conv2d_2 (Conv2D)            (None, 7, 7, 128)         11648     \n",
      "_________________________________________________________________\n",
      "dense_2 (Dense)              (None, 7, 7, 10)          1290      \n",
      "_________________________________________________________________\n",
      "max_pooling2d_2 (MaxPooling2 (None, 4, 4, 10)          0         \n",
      "_________________________________________________________________\n",
      "flatten (Flatten)            (None, 160)               0         \n",
      "_________________________________________________________________\n",
      "dense_3 (Dense)              (None, 10)                1610      \n",
      "=================================================================\n",
      "Total params: 21,672\n",
      "Trainable params: 21,672\n",
      "Non-trainable params: 0\n",
      "_________________________________________________________________\n"
     ]
    }
   ],
   "source": [
    "# MNIST 분류 CNN keras 모델 구현\n",
    "model = tf.keras.Sequential([\n",
    "    tf.keras.layers.Conv2D(input_shape=(28, 28, 1),kernel_size=(3,3),filters=32,padding='same'),\n",
    "    tf.keras.layers.Dense(units=10,activation='relu'),\n",
    "    tf.keras.layers.MaxPool2D(pool_size=(2,2),strides=(2,2),padding='same'),\n",
    "\n",
    "    tf.keras.layers.Conv2D(input_shape=(14, 14, 1),kernel_size=(3,3),filters=64,padding='same'),\n",
    "    tf.keras.layers.Dense(units=10,activation='relu'),\n",
    "    tf.keras.layers.MaxPool2D(pool_size=(2,2),strides=(2,2),padding='same'),  \n",
    "    \n",
    "    tf.keras.layers.Conv2D(input_shape=(7, 7, 1),kernel_size=(3,3),filters=128,padding='same'),\n",
    "    tf.keras.layers.Dense(units=10,activation='relu'),\n",
    "    tf.keras.layers.MaxPool2D(pool_size=(2,2),strides=(2,2),padding='same'), \n",
    "    \n",
    "    tf.keras.layers.Flatten(),\n",
    "    tf.keras.layers.Dense(units=10,activation='softmax')\n",
    "])\n",
    "\n",
    "model.compile(optimizer=tf.keras.optimizers.Adam(),\n",
    "             loss = 'sparse_categorical_crossentropy',\n",
    "             metrics = ['accuracy'])\n",
    "\n",
    "model.summary()\n",
    "\n",
    "# https://www.tensorflow.org/api_docs/python/tf/keras/layers/Conv2D\n",
    "# tf.keras.layers.Conv2D(\n",
    "#     filters, kernel_size, strides=(1, 1), padding='valid', data_format=None,\n",
    "#     dilation_rate=(1, 1), groups=1, activation=None, use_bias=True,\n",
    "#     kernel_initializer='glorot_uniform', bias_initializer='zeros',\n",
    "#     kernel_regularizer=None, bias_regularizer=None, activity_regularizer=None,\n",
    "#     kernel_constraint=None, bias_constraint=None, **kwargs\n",
    "# )\n",
    "\n",
    "# https://yeomko.tistory.com/40\n",
    "# Xavier Glorot Initialization : W(Weight) 값을 fan_in,fan_out를 사용하여 초기화하여 정확도 향상\n",
    "\n",
    "# loss 종류\n",
    "# mean_squared_error : 평균제곱 오차\n",
    "# binary_crossentropy : 이진분류 오차\n",
    "# categorical_crossentropy : 다중 분류 오차. one-hot encoding 클래스, [0.2, 0.3, 0.5] 와 같은 출력값과 실측값의 오차값을 계산한다.\n",
    "# sparse_categorical_crossentropy: 다중 분류 오차. 위와 동일하지만 , integer type 클래스라는 것이 다르다.\n"
   ]
  },
  {
   "cell_type": "code",
   "execution_count": 4,
   "metadata": {
    "colab": {
     "base_uri": "https://localhost:8080/",
     "height": 898
    },
    "colab_type": "code",
    "executionInfo": {
     "elapsed": 352815,
     "status": "ok",
     "timestamp": 1598595862222,
     "user": {
      "displayName": "고병화",
      "photoUrl": "https://lh3.googleusercontent.com/a-/AOh14GgLZcAZyPt33HiIqtXjHiL8D4PIcVPdfLgODP1QBA=s64",
      "userId": "12645007744594631320"
     },
     "user_tz": -540
    },
    "id": "UphrBHIppvNS",
    "outputId": "48755f62-1dd6-40c7-a910-720bc058acf0"
   },
   "outputs": [
    {
     "name": "stdout",
     "output_type": "stream",
     "text": [
      "Epoch 1/25\n",
      "1407/1407 [==============================] - 14s 10ms/step - loss: 0.3273 - accuracy: 0.8995 - val_loss: 0.1077 - val_accuracy: 0.9671\n",
      "Epoch 2/25\n",
      "1407/1407 [==============================] - 14s 10ms/step - loss: 0.1266 - accuracy: 0.9618 - val_loss: 0.1245 - val_accuracy: 0.9603\n",
      "Epoch 3/25\n",
      "1407/1407 [==============================] - 15s 10ms/step - loss: 0.1074 - accuracy: 0.9668 - val_loss: 0.0930 - val_accuracy: 0.9705\n",
      "Epoch 4/25\n",
      "1407/1407 [==============================] - 14s 10ms/step - loss: 0.0959 - accuracy: 0.9698 - val_loss: 0.0763 - val_accuracy: 0.9760\n",
      "Epoch 5/25\n",
      "1407/1407 [==============================] - 14s 10ms/step - loss: 0.0896 - accuracy: 0.9711 - val_loss: 0.0836 - val_accuracy: 0.9741\n",
      "Epoch 6/25\n",
      "1407/1407 [==============================] - 14s 10ms/step - loss: 0.0787 - accuracy: 0.9756 - val_loss: 0.0720 - val_accuracy: 0.9772\n",
      "Epoch 7/25\n",
      "1407/1407 [==============================] - 14s 10ms/step - loss: 0.0763 - accuracy: 0.9757 - val_loss: 0.0755 - val_accuracy: 0.9767\n",
      "Epoch 8/25\n",
      "1407/1407 [==============================] - 14s 10ms/step - loss: 0.0687 - accuracy: 0.9783 - val_loss: 0.0885 - val_accuracy: 0.9740\n",
      "Epoch 9/25\n",
      "1407/1407 [==============================] - 14s 10ms/step - loss: 0.0668 - accuracy: 0.9783 - val_loss: 0.0864 - val_accuracy: 0.9736\n",
      "Epoch 10/25\n",
      "1407/1407 [==============================] - 14s 10ms/step - loss: 0.0636 - accuracy: 0.9807 - val_loss: 0.0648 - val_accuracy: 0.9793\n",
      "Epoch 11/25\n",
      "1407/1407 [==============================] - 14s 10ms/step - loss: 0.0606 - accuracy: 0.9805 - val_loss: 0.0720 - val_accuracy: 0.9783\n",
      "Epoch 12/25\n",
      "1407/1407 [==============================] - 14s 10ms/step - loss: 0.0559 - accuracy: 0.9823 - val_loss: 0.0622 - val_accuracy: 0.9821\n",
      "Epoch 13/25\n",
      "1407/1407 [==============================] - 14s 10ms/step - loss: 0.0554 - accuracy: 0.9819 - val_loss: 0.0833 - val_accuracy: 0.9764\n",
      "Epoch 14/25\n",
      "1407/1407 [==============================] - 14s 10ms/step - loss: 0.0527 - accuracy: 0.9831 - val_loss: 0.0667 - val_accuracy: 0.9801\n",
      "Epoch 15/25\n",
      "1407/1407 [==============================] - 14s 10ms/step - loss: 0.0520 - accuracy: 0.9832 - val_loss: 0.0739 - val_accuracy: 0.9790\n",
      "Epoch 16/25\n",
      "1407/1407 [==============================] - 14s 10ms/step - loss: 0.0500 - accuracy: 0.9839 - val_loss: 0.0758 - val_accuracy: 0.9771\n",
      "Epoch 17/25\n",
      "1407/1407 [==============================] - 14s 10ms/step - loss: 0.0474 - accuracy: 0.9851 - val_loss: 0.0763 - val_accuracy: 0.9769\n",
      "Epoch 18/25\n",
      "1407/1407 [==============================] - 14s 10ms/step - loss: 0.0468 - accuracy: 0.9844 - val_loss: 0.0753 - val_accuracy: 0.9752\n",
      "Epoch 19/25\n",
      "1407/1407 [==============================] - 14s 10ms/step - loss: 0.0455 - accuracy: 0.9854 - val_loss: 0.0795 - val_accuracy: 0.9789\n",
      "Epoch 20/25\n",
      "1407/1407 [==============================] - 14s 10ms/step - loss: 0.0457 - accuracy: 0.9853 - val_loss: 0.0654 - val_accuracy: 0.9808\n",
      "Epoch 21/25\n",
      "1407/1407 [==============================] - 14s 10ms/step - loss: 0.0436 - accuracy: 0.9859 - val_loss: 0.0634 - val_accuracy: 0.9824\n",
      "Epoch 22/25\n",
      "1407/1407 [==============================] - 14s 10ms/step - loss: 0.0427 - accuracy: 0.9854 - val_loss: 0.0610 - val_accuracy: 0.9817\n",
      "Epoch 23/25\n",
      "1407/1407 [==============================] - 14s 10ms/step - loss: 0.0425 - accuracy: 0.9855 - val_loss: 0.0677 - val_accuracy: 0.9804\n",
      "Epoch 24/25\n",
      "1407/1407 [==============================] - 14s 10ms/step - loss: 0.0410 - accuracy: 0.9866 - val_loss: 0.0772 - val_accuracy: 0.9778\n",
      "Epoch 25/25\n",
      "1407/1407 [==============================] - 14s 10ms/step - loss: 0.0406 - accuracy: 0.9864 - val_loss: 0.0775 - val_accuracy: 0.9790\n"
     ]
    },
    {
     "data": {
      "text/plain": [
       "<tensorflow.python.keras.callbacks.History at 0x7f74204d7c18>"
      ]
     },
     "execution_count": 4,
     "metadata": {
      "tags": []
     },
     "output_type": "execute_result"
    }
   ],
   "source": [
    "model.fit(x_train,y_train,epochs=25,validation_split=0.25)\n",
    "# validation_split : 학습데이터를 학습과 평가용 데이터로 분리(75%:25%)"
   ]
  },
  {
   "cell_type": "code",
   "execution_count": 5,
   "metadata": {
    "colab": {
     "base_uri": "https://localhost:8080/",
     "height": 34
    },
    "colab_type": "code",
    "executionInfo": {
     "elapsed": 354803,
     "status": "ok",
     "timestamp": 1598595864217,
     "user": {
      "displayName": "고병화",
      "photoUrl": "https://lh3.googleusercontent.com/a-/AOh14GgLZcAZyPt33HiIqtXjHiL8D4PIcVPdfLgODP1QBA=s64",
      "userId": "12645007744594631320"
     },
     "user_tz": -540
    },
    "id": "R4_FNjIOpvNV",
    "outputId": "3854679e-e563-454c-a419-39e8311bb89a"
   },
   "outputs": [
    {
     "data": {
      "text/plain": [
       "[0.05205076187849045, 0.9836999773979187]"
      ]
     },
     "execution_count": 5,
     "metadata": {
      "tags": []
     },
     "output_type": "execute_result"
    }
   ],
   "source": [
    "model.evaluate(x_test,y_test,verbose=0)\n",
    "# [0.05205076187849045, 0.9836999773979187]"
   ]
  },
  {
   "cell_type": "code",
   "execution_count": 6,
   "metadata": {
    "colab": {
     "base_uri": "https://localhost:8080/",
     "height": 639
    },
    "colab_type": "code",
    "executionInfo": {
     "elapsed": 887,
     "status": "ok",
     "timestamp": 1598596304157,
     "user": {
      "displayName": "고병화",
      "photoUrl": "https://lh3.googleusercontent.com/a-/AOh14GgLZcAZyPt33HiIqtXjHiL8D4PIcVPdfLgODP1QBA=s64",
      "userId": "12645007744594631320"
     },
     "user_tz": -540
    },
    "id": "Zpaay11cpvNX",
    "outputId": "f9bcdfb3-b44c-443f-d209-e1065f5da957"
   },
   "outputs": [
    {
     "name": "stdout",
     "output_type": "stream",
     "text": [
      "Model: \"sequential_1\"\n",
      "_________________________________________________________________\n",
      "Layer (type)                 Output Shape              Param #   \n",
      "=================================================================\n",
      "conv2d_3 (Conv2D)            (None, 28, 28, 32)        320       \n",
      "_________________________________________________________________\n",
      "conv2d_4 (Conv2D)            (None, 28, 28, 64)        18496     \n",
      "_________________________________________________________________\n",
      "max_pooling2d_3 (MaxPooling2 (None, 14, 14, 64)        0         \n",
      "_________________________________________________________________\n",
      "dropout (Dropout)            (None, 14, 14, 64)        0         \n",
      "_________________________________________________________________\n",
      "conv2d_5 (Conv2D)            (None, 14, 14, 128)       73856     \n",
      "_________________________________________________________________\n",
      "conv2d_6 (Conv2D)            (None, 12, 12, 256)       295168    \n",
      "_________________________________________________________________\n",
      "max_pooling2d_4 (MaxPooling2 (None, 6, 6, 256)         0         \n",
      "_________________________________________________________________\n",
      "dropout_1 (Dropout)          (None, 6, 6, 256)         0         \n",
      "_________________________________________________________________\n",
      "flatten_1 (Flatten)          (None, 9216)              0         \n",
      "_________________________________________________________________\n",
      "dense_4 (Dense)              (None, 512)               4719104   \n",
      "_________________________________________________________________\n",
      "dropout_2 (Dropout)          (None, 512)               0         \n",
      "_________________________________________________________________\n",
      "dense_5 (Dense)              (None, 256)               131328    \n",
      "_________________________________________________________________\n",
      "dropout_3 (Dropout)          (None, 256)               0         \n",
      "_________________________________________________________________\n",
      "dense_6 (Dense)              (None, 10)                2570      \n",
      "=================================================================\n",
      "Total params: 5,240,842\n",
      "Trainable params: 5,240,842\n",
      "Non-trainable params: 0\n",
      "_________________________________________________________________\n"
     ]
    }
   ],
   "source": [
    "# VGGNet (VGG-19) 스타일의 MNIST 분류 CNN 모델 \n",
    "#--------------------------------------------\n",
    "# ( Conv2D * 2개  --> MaxPool2D ) * 2회 : 4층\n",
    "# ( Conv2D * 4개  --> MaxPool2D ) * 3회 : 12층\n",
    "# Dense * 3개                           : 3층\n",
    "#--------------------------------------------\n",
    "#                                     총 19층\n",
    "#--------------------------------------------\n",
    "# 각 네트워크마다 필터의 수를 2배로 증가 시킨다 : 32-->64-->128-->256-->512\n",
    "\n",
    "model = tf.keras.Sequential([\n",
    "    tf.keras.layers.Conv2D(input_shape=(28,28,1), kernel_size=(3,3), filters=32, padding='same', activation='relu'),\n",
    "    tf.keras.layers.Conv2D(kernel_size=(3,3), filters=64, padding='same', activation='relu'),\n",
    "    tf.keras.layers.MaxPool2D(pool_size=(2,2)),\n",
    "    tf.keras.layers.Dropout(rate=0.5),\n",
    "    tf.keras.layers.Conv2D(kernel_size=(3,3), filters=128, padding='same', activation='relu'),\n",
    "    tf.keras.layers.Conv2D(kernel_size=(3,3), filters=256, padding='valid', activation='relu'),\n",
    "    tf.keras.layers.MaxPool2D(pool_size=(2,2)),\n",
    "    tf.keras.layers.Dropout(rate=0.5),\n",
    "    tf.keras.layers.Flatten(),\n",
    "    tf.keras.layers.Dense(units=512, activation='relu'),\n",
    "    tf.keras.layers.Dropout(rate=0.5),\n",
    "    tf.keras.layers.Dense(units=256, activation='relu'),\n",
    "    tf.keras.layers.Dropout(rate=0.5),\n",
    "    tf.keras.layers.Dense(units=10, activation='softmax')\n",
    "])\n",
    "\n",
    "model.compile(optimizer=tf.keras.optimizers.Adam(), \n",
    "              loss='sparse_categorical_crossentropy', \n",
    "              metrics=['accuracy'])\n",
    "\n",
    "model.summary()"
   ]
  },
  {
   "cell_type": "code",
   "execution_count": 7,
   "metadata": {
    "colab": {
     "base_uri": "https://localhost:8080/",
     "height": 898
    },
    "colab_type": "code",
    "executionInfo": {
     "elapsed": 582372,
     "status": "ok",
     "timestamp": 1598597100157,
     "user": {
      "displayName": "고병화",
      "photoUrl": "https://lh3.googleusercontent.com/a-/AOh14GgLZcAZyPt33HiIqtXjHiL8D4PIcVPdfLgODP1QBA=s64",
      "userId": "12645007744594631320"
     },
     "user_tz": -540
    },
    "id": "YAp5Rfbqw8lC",
    "outputId": "fff9be9f-e754-480c-ee13-2cef386156c5"
   },
   "outputs": [
    {
     "name": "stdout",
     "output_type": "stream",
     "text": [
      "Epoch 1/25\n",
      "1407/1407 [==============================] - 23s 16ms/step - loss: 0.6575 - accuracy: 0.8464 - val_loss: 0.0743 - val_accuracy: 0.9771\n",
      "Epoch 2/25\n",
      "1407/1407 [==============================] - 23s 16ms/step - loss: 0.1804 - accuracy: 0.9491 - val_loss: 0.0665 - val_accuracy: 0.9801\n",
      "Epoch 3/25\n",
      "1407/1407 [==============================] - 23s 17ms/step - loss: 0.1401 - accuracy: 0.9616 - val_loss: 0.0473 - val_accuracy: 0.9863\n",
      "Epoch 4/25\n",
      "1407/1407 [==============================] - 23s 16ms/step - loss: 0.1190 - accuracy: 0.9677 - val_loss: 0.0512 - val_accuracy: 0.9856\n",
      "Epoch 5/25\n",
      "1407/1407 [==============================] - 23s 16ms/step - loss: 0.1119 - accuracy: 0.9695 - val_loss: 0.0445 - val_accuracy: 0.9877\n",
      "Epoch 6/25\n",
      "1407/1407 [==============================] - 23s 17ms/step - loss: 0.1093 - accuracy: 0.9705 - val_loss: 0.0446 - val_accuracy: 0.9885\n",
      "Epoch 7/25\n",
      "1407/1407 [==============================] - 23s 17ms/step - loss: 0.1083 - accuracy: 0.9712 - val_loss: 0.0449 - val_accuracy: 0.9882\n",
      "Epoch 8/25\n",
      "1407/1407 [==============================] - 23s 16ms/step - loss: 0.1011 - accuracy: 0.9740 - val_loss: 0.0491 - val_accuracy: 0.9868\n",
      "Epoch 9/25\n",
      "1407/1407 [==============================] - 23s 16ms/step - loss: 0.0968 - accuracy: 0.9744 - val_loss: 0.0400 - val_accuracy: 0.9890\n",
      "Epoch 10/25\n",
      "1407/1407 [==============================] - 23s 16ms/step - loss: 0.0984 - accuracy: 0.9744 - val_loss: 0.0416 - val_accuracy: 0.9901\n",
      "Epoch 11/25\n",
      "1407/1407 [==============================] - 23s 17ms/step - loss: 0.0917 - accuracy: 0.9762 - val_loss: 0.0444 - val_accuracy: 0.9898\n",
      "Epoch 12/25\n",
      "1407/1407 [==============================] - 23s 17ms/step - loss: 0.0972 - accuracy: 0.9760 - val_loss: 0.0408 - val_accuracy: 0.9883\n",
      "Epoch 13/25\n",
      "1407/1407 [==============================] - 23s 16ms/step - loss: 0.0964 - accuracy: 0.9759 - val_loss: 0.0334 - val_accuracy: 0.9913\n",
      "Epoch 14/25\n",
      "1407/1407 [==============================] - 23s 17ms/step - loss: 0.0953 - accuracy: 0.9767 - val_loss: 0.0352 - val_accuracy: 0.9913\n",
      "Epoch 15/25\n",
      "1407/1407 [==============================] - 23s 16ms/step - loss: 0.0921 - accuracy: 0.9771 - val_loss: 0.0478 - val_accuracy: 0.9883\n",
      "Epoch 16/25\n",
      "1407/1407 [==============================] - 23s 16ms/step - loss: 0.0954 - accuracy: 0.9768 - val_loss: 0.0340 - val_accuracy: 0.9920\n",
      "Epoch 17/25\n",
      "1407/1407 [==============================] - 23s 16ms/step - loss: 0.0980 - accuracy: 0.9767 - val_loss: 0.0406 - val_accuracy: 0.9903\n",
      "Epoch 18/25\n",
      "1407/1407 [==============================] - 23s 17ms/step - loss: 0.0950 - accuracy: 0.9772 - val_loss: 0.0445 - val_accuracy: 0.9899\n",
      "Epoch 19/25\n",
      "1407/1407 [==============================] - 23s 17ms/step - loss: 0.0888 - accuracy: 0.9783 - val_loss: 0.0452 - val_accuracy: 0.9881\n",
      "Epoch 20/25\n",
      "1407/1407 [==============================] - 23s 17ms/step - loss: 0.0893 - accuracy: 0.9783 - val_loss: 0.0343 - val_accuracy: 0.9913\n",
      "Epoch 21/25\n",
      "1407/1407 [==============================] - 23s 16ms/step - loss: 0.0879 - accuracy: 0.9783 - val_loss: 0.0378 - val_accuracy: 0.9907\n",
      "Epoch 22/25\n",
      "1407/1407 [==============================] - 23s 16ms/step - loss: 0.0881 - accuracy: 0.9782 - val_loss: 0.0416 - val_accuracy: 0.9921\n",
      "Epoch 23/25\n",
      "1407/1407 [==============================] - 23s 17ms/step - loss: 0.0960 - accuracy: 0.9774 - val_loss: 0.0405 - val_accuracy: 0.9898\n",
      "Epoch 24/25\n",
      "1407/1407 [==============================] - 23s 16ms/step - loss: 0.0907 - accuracy: 0.9775 - val_loss: 0.0295 - val_accuracy: 0.9923\n",
      "Epoch 25/25\n",
      "1407/1407 [==============================] - 23s 16ms/step - loss: 0.0822 - accuracy: 0.9808 - val_loss: 0.0348 - val_accuracy: 0.9923\n"
     ]
    },
    {
     "data": {
      "text/plain": [
       "<tensorflow.python.keras.callbacks.History at 0x7f7420125780>"
      ]
     },
     "execution_count": 7,
     "metadata": {
      "tags": []
     },
     "output_type": "execute_result"
    }
   ],
   "source": [
    "model.fit(x_train,y_train,epochs=25,validation_split=0.25)"
   ]
  },
  {
   "cell_type": "code",
   "execution_count": 8,
   "metadata": {
    "colab": {
     "base_uri": "https://localhost:8080/",
     "height": 34
    },
    "colab_type": "code",
    "executionInfo": {
     "elapsed": 574016,
     "status": "ok",
     "timestamp": 1598597101653,
     "user": {
      "displayName": "고병화",
      "photoUrl": "https://lh3.googleusercontent.com/a-/AOh14GgLZcAZyPt33HiIqtXjHiL8D4PIcVPdfLgODP1QBA=s64",
      "userId": "12645007744594631320"
     },
     "user_tz": -540
    },
    "id": "GB8FuCHKxw9H",
    "outputId": "a3ca0837-2818-4dfd-92f5-5848113c17bd"
   },
   "outputs": [
    {
     "data": {
      "text/plain": [
       "[0.031050674617290497, 0.9919999837875366]"
      ]
     },
     "execution_count": 8,
     "metadata": {
      "tags": []
     },
     "output_type": "execute_result"
    }
   ],
   "source": [
    "model.evaluate(x_test,y_test,verbose=0)\n",
    "# [0.031050674617290497, 0.9919999837875366]  : 정확도 향상,코랩에서 실행"
   ]
  },
  {
   "cell_type": "code",
   "execution_count": null,
   "metadata": {
    "colab": {},
    "colab_type": "code",
    "id": "txPMuxAxxzXU"
   },
   "outputs": [],
   "source": []
  }
 ],
 "metadata": {
  "accelerator": "GPU",
  "colab": {
   "collapsed_sections": [],
   "name": "02_mnist_cnn_keras.ipynb",
   "provenance": []
  },
  "kernelspec": {
   "display_name": "Python 3",
   "language": "python",
   "name": "python3"
  },
  "language_info": {
   "codemirror_mode": {
    "name": "ipython",
    "version": 3
   },
   "file_extension": ".py",
   "mimetype": "text/x-python",
   "name": "python",
   "nbconvert_exporter": "python",
   "pygments_lexer": "ipython3",
   "version": "3.7.7"
  }
 },
 "nbformat": 4,
 "nbformat_minor": 0
}
