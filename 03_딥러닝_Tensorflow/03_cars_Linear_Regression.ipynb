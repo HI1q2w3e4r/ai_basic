{
 "cells": [
  {
   "cell_type": "markdown",
   "metadata": {},
   "source": [
    "## Cars Linear Regression\n",
    "#### X : 'speed' (속도)  , Y : 'dist' (제동거리)"
   ]
  },
  {
   "cell_type": "code",
   "execution_count": 1,
   "metadata": {},
   "outputs": [],
   "source": [
    "import tensorflow as tf\n",
    "import numpy as np\n",
    "import matplotlib.pyplot as plt\n",
    "\n",
    "tf.random.set_seed(5)\n",
    "\n",
    "# 학습 데이터 : X와 Y 데이터\n",
    "xy = np.loadtxt('data-01-cars.csv',unpack=True,delimiter=',',skiprows=1)\n",
    "x_train = xy[0]\n",
    "y_train = xy[1]"
   ]
  },
  {
   "cell_type": "code",
   "execution_count": 2,
   "metadata": {},
   "outputs": [],
   "source": [
    "# 변수 초기화 : weight, bias\n",
    "# tf.random.normal([1]) : 난수를 1개 생성\n",
    "W = tf.Variable(tf.random.normal([1]), name = 'weight')\n",
    "b = tf.Variable(tf.random.normal([1]), name = 'bias')"
   ]
  },
  {
   "cell_type": "code",
   "execution_count": 3,
   "metadata": {},
   "outputs": [],
   "source": [
    "# 예측 함수(hypothesis) : H(X) = W*X + b\n",
    "def hypothesis(X):\n",
    "    return X*W + b"
   ]
  },
  {
   "cell_type": "code",
   "execution_count": 4,
   "metadata": {},
   "outputs": [],
   "source": [
    "# 비용함수 : (H(x) - y)^2의 평균\n",
    "# tf.square() : 제곱\n",
    "# tf.reduce_mean() : 합의 평균\n",
    "def cost_func():\n",
    "    cost = tf.reduce_mean(tf.square(hypothesis(x_train) - y_train))\n",
    "    return cost"
   ]
  },
  {
   "cell_type": "code",
   "execution_count": 5,
   "metadata": {},
   "outputs": [],
   "source": [
    "# 경사 하강법\n",
    "# learning_rate(학습율)을 0.01 로 설정하여 optimizer객체를 생성\n",
    "# optimizer = tf.compat.v1.train.GradientDescentOptimizer(learning_rate=0.01)\n",
    "# optimizer = tf.compat.v1.train.AdamOptimizer(learning_rate=0.01)\n",
    "optimizer = tf.keras.optimizers.Adam(lr=0.01)"
   ]
  },
  {
   "cell_type": "code",
   "execution_count": 6,
   "metadata": {},
   "outputs": [
    {
     "name": "stdout",
     "output_type": "stream",
     "text": [
      "****** Start Learning!!\n",
      "0000 cost:[ 2746.3662 ]  W: [-0.17030665]  b: [0.23652864]\n",
      "0100 cost:[ 1405.5791 ]  W: [0.7634749]  b: [1.1666381]\n",
      "0200 cost:[ 711.9278 ]  W: [1.5014503]  b: [1.8872595]\n",
      "0300 cost:[ 412.7359 ]  W: [2.0317748]  b: [2.3801653]\n",
      "0400 cost:[ 307.80438 ]  W: [2.3737347]  b: [2.6606305]\n",
      "0500 cost:[ 278.32724 ]  W: [2.5699966]  b: [2.7712991]\n",
      "0600 cost:[ 271.50888 ]  W: [2.6710968]  b: [2.765768]\n",
      "0700 cost:[ 269.90894 ]  W: [2.719547]  b: [2.6902547]\n",
      "0800 cost:[ 269.20804 ]  W: [2.7431982]  b: [2.5753827]\n",
      "0900 cost:[ 268.59503 ]  W: [2.7569902]  b: [2.4376867]\n",
      "1000 cost:[ 267.95435 ]  W: [2.7676616]  b: [2.2846844]\n",
      "1100 cost:[ 267.27454 ]  W: [2.7778053]  b: [2.1193192]\n",
      "1200 cost:[ 266.55594 ]  W: [2.7882767]  b: [1.9426078]\n",
      "1300 cost:[ 265.8 ]  W: [2.799316]  b: [1.7548759]\n",
      "1400 cost:[ 265.00818 ]  W: [2.8109796]  b: [1.5562363]\n",
      "1500 cost:[ 264.182 ]  W: [2.8232772]  b: [1.3467466]\n",
      "1600 cost:[ 263.32303 ]  W: [2.836209]  b: [1.1264534]\n",
      "1700 cost:[ 262.43286 ]  W: [2.8497717]  b: [0.89540863]\n",
      "1800 cost:[ 261.5134 ]  W: [2.8639617]  b: [0.6536701]\n",
      "1900 cost:[ 260.56647 ]  W: [2.8787751]  b: [0.40131187]\n",
      "2000 cost:[ 259.59402 ]  W: [2.8942063]  b: [0.13842398]\n",
      "2100 cost:[ 258.59827 ]  W: [2.9102488]  b: [-0.13488391]\n",
      "2200 cost:[ 257.5814 ]  W: [2.9268954]  b: [-0.41847977]\n",
      "2300 cost:[ 256.54578 ]  W: [2.9441345]  b: [-0.7122039]\n",
      "2400 cost:[ 255.49387 ]  W: [2.9619582]  b: [-1.0158716]\n",
      "2500 cost:[ 254.42836 ]  W: [2.9803517]  b: [-1.3292671]\n",
      "2600 cost:[ 253.35187 ]  W: [2.999301]  b: [-1.6521461]\n",
      "2700 cost:[ 252.26721 ]  W: [3.0187895]  b: [-1.9842291]\n",
      "2800 cost:[ 251.17732 ]  W: [3.0387993]  b: [-2.3252022]\n",
      "2900 cost:[ 250.08519 ]  W: [3.0593088]  b: [-2.6747186]\n",
      "3000 cost:[ 248.99371 ]  W: [3.0802958]  b: [-3.0323927]\n",
      "3100 cost:[ 247.90604 ]  W: [3.1017356]  b: [-3.397808]\n",
      "3200 cost:[ 246.82513 ]  W: [3.1236017]  b: [-3.7705102]\n",
      "3300 cost:[ 245.75414 ]  W: [3.1458645]  b: [-4.150008]\n",
      "3400 cost:[ 244.69606 ]  W: [3.168493]  b: [-4.5357795]\n",
      "3500 cost:[ 243.6538 ]  W: [3.1914556]  b: [-4.927265]\n",
      "3600 cost:[ 242.6303 ]  W: [3.2147167]  b: [-5.323881]\n",
      "3700 cost:[ 241.62833 ]  W: [3.2382398]  b: [-5.7249994]\n",
      "3800 cost:[ 240.65054 ]  W: [3.261987]  b: [-6.1299734]\n",
      "3900 cost:[ 239.69951 ]  W: [3.285918]  b: [-6.5381274]\n",
      "4000 cost:[ 238.77754 ]  W: [3.3099916]  b: [-6.948756]\n",
      "4100 cost:[ 237.88681 ]  W: [3.334165]  b: [-7.3611383]\n",
      "4200 cost:[ 237.02925 ]  W: [3.3583972]  b: [-7.774526]\n",
      "4300 cost:[ 236.20673 ]  W: [3.3826365]  b: [-8.188146]\n",
      "4400 cost:[ 235.4206 ]  W: [3.406844]  b: [-8.601224]\n",
      "4500 cost:[ 234.67218 ]  W: [3.430971]  b: [-9.012965]\n",
      "4600 cost:[ 233.96259 ]  W: [3.4549687]  b: [-9.422562]\n",
      "4700 cost:[ 233.29248 ]  W: [3.478791]  b: [-9.829198]\n",
      "4800 cost:[ 232.66238 ]  W: [3.502389]  b: [-10.232048]\n",
      "4900 cost:[ 232.07262 ]  W: [3.5257144]  b: [-10.630285]\n",
      "5000 cost:[ 231.52303 ]  W: [3.5487196]  b: [-11.023089]\n",
      "5100 cost:[ 231.01344 ]  W: [3.5713556]  b: [-11.409633]\n",
      "5200 cost:[ 230.5433 ]  W: [3.5935755]  b: [-11.789097]\n",
      "5300 cost:[ 230.11186 ]  W: [3.6153314]  b: [-12.160676]\n",
      "5400 cost:[ 229.71808 ]  W: [3.6365774]  b: [-12.523577]\n",
      "5500 cost:[ 229.3608 ]  W: [3.6572685]  b: [-12.8770275]\n",
      "5600 cost:[ 229.03864 ]  W: [3.6773605]  b: [-13.220265]\n",
      "5700 cost:[ 228.74994 ]  W: [3.696811]  b: [-13.552569]\n",
      "5800 cost:[ 228.49309 ]  W: [3.7155797]  b: [-13.873246]\n",
      "5900 cost:[ 228.26616 ]  W: [3.7336292]  b: [-14.181651]\n",
      "6000 cost:[ 228.06715 ]  W: [3.7509236]  b: [-14.477174]\n",
      "6100 cost:[ 227.89412 ]  W: [3.7674313]  b: [-14.75927]\n",
      "6200 cost:[ 227.7449 ]  W: [3.7831242]  b: [-15.027448]\n",
      "6300 cost:[ 227.61737 ]  W: [3.7979772]  b: [-15.281292]\n",
      "6400 cost:[ 227.50946 ]  W: [3.8119712]  b: [-15.52046]\n",
      "6500 cost:[ 227.41902 ]  W: [3.8250911]  b: [-15.744699]\n",
      "6600 cost:[ 227.34404 ]  W: [3.8373277]  b: [-15.953842]\n",
      "6700 cost:[ 227.28262 ]  W: [3.8486772]  b: [-16.14783]\n",
      "6800 cost:[ 227.23291 ]  W: [3.8591416]  b: [-16.326693]\n",
      "6900 cost:[ 227.19316 ]  W: [3.8687296]  b: [-16.490582]\n",
      "7000 cost:[ 227.16185 ]  W: [3.8774562]  b: [-16.639748]\n",
      "7100 cost:[ 227.13744 ]  W: [3.8853428]  b: [-16.774553]\n",
      "7200 cost:[ 227.11884 ]  W: [3.8924172]  b: [-16.89548]\n",
      "7300 cost:[ 227.1048 ]  W: [3.8987117]  b: [-17.00308]\n",
      "7400 cost:[ 227.09439 ]  W: [3.9042664]  b: [-17.098028]\n",
      "7500 cost:[ 227.08684 ]  W: [3.909124]  b: [-17.181059]\n",
      "7600 cost:[ 227.08145 ]  W: [3.913332]  b: [-17.252993]\n",
      "7700 cost:[ 227.07765 ]  W: [3.9169407]  b: [-17.31468]\n",
      "7800 cost:[ 227.07507 ]  W: [3.920004]  b: [-17.367046]\n",
      "7900 cost:[ 227.07333 ]  W: [3.922575]  b: [-17.410995]\n",
      "8000 cost:[ 227.0722 ]  W: [3.9247074]  b: [-17.447447]\n",
      "8100 cost:[ 227.07152 ]  W: [3.926454]  b: [-17.477306]\n",
      "8200 cost:[ 227.07106 ]  W: [3.927867]  b: [-17.501455]\n",
      "8300 cost:[ 227.07079 ]  W: [3.9289935]  b: [-17.520716]\n",
      "8400 cost:[ 227.0706 ]  W: [3.9298792]  b: [-17.535854]\n",
      "8500 cost:[ 227.07053 ]  W: [3.9305649]  b: [-17.547575]\n",
      "8600 cost:[ 227.07051 ]  W: [3.9310868]  b: [-17.5565]\n",
      "8700 cost:[ 227.07045 ]  W: [3.9314775]  b: [-17.563177]\n",
      "8800 cost:[ 227.07043 ]  W: [3.9317648]  b: [-17.568089]\n",
      "8900 cost:[ 227.07043 ]  W: [3.9319723]  b: [-17.571634]\n",
      "9000 cost:[ 227.0704 ]  W: [3.9321187]  b: [-17.574137]\n",
      "9100 cost:[ 227.07043 ]  W: [3.9322207]  b: [-17.575876]\n",
      "9200 cost:[ 227.07043 ]  W: [3.932289]  b: [-17.577044]\n",
      "9300 cost:[ 227.0704 ]  W: [3.932334]  b: [-17.577822]\n",
      "9400 cost:[ 227.07043 ]  W: [3.9323633]  b: [-17.578314]\n",
      "9500 cost:[ 227.07045 ]  W: [3.9323814]  b: [-17.57863]\n",
      "9600 cost:[ 227.07043 ]  W: [3.9323924]  b: [-17.578821]\n",
      "9700 cost:[ 227.07043 ]  W: [3.9323997]  b: [-17.57894]\n",
      "9800 cost:[ 227.0704 ]  W: [3.9323997]  b: [-17.578941]\n",
      "9900 cost:[ 227.0704 ]  W: [3.9323997]  b: [-17.578941]\n",
      "10000 cost:[ 227.07043 ]  W: [3.9324002]  b: [-17.57895]\n",
      "****** Learning Finished!!\n"
     ]
    }
   ],
   "source": [
    "# 학습 시작\n",
    "print('****** Start Learning!!')\n",
    "for step in range(10001):\n",
    "    # cost를 minimize 한다\n",
    "    optimizer.minimize(cost_func,var_list=[W,b]) # W,b를 업데이트\n",
    "    if step % 100 == 0:\n",
    "        print('%04d'%step,'cost:[',cost_func().numpy(),']',\n",
    "             ' W:',W.numpy(),' b:',b.numpy())\n",
    "        \n",
    "print('****** Learning Finished!!')        "
   ]
  },
  {
   "cell_type": "code",
   "execution_count": 7,
   "metadata": {},
   "outputs": [
    {
     "name": "stdout",
     "output_type": "stream",
     "text": [
      "Weight: [3.9324002]\n",
      "bias: [-17.57895]\n"
     ]
    }
   ],
   "source": [
    "# Weight과 bias 출력\n",
    "print('Weight:',W.numpy())\n",
    "print('bias:', b.numpy())"
   ]
  },
  {
   "cell_type": "code",
   "execution_count": 10,
   "metadata": {},
   "outputs": [
    {
     "name": "stdout",
     "output_type": "stream",
     "text": [
      "******* Predict\n",
      "speed=30, dist= [100.39306]\n",
      "speed=50, dist= [179.04106]\n",
      "speed=[10,11,12,24,25], dist= [21.74505  25.67745  29.609854 76.79866  80.73106 ]\n"
     ]
    }
   ],
   "source": [
    "# 예측\n",
    "print('******* Predict')\n",
    "# 속도가 30과 50일 때 제동 거리를 예측\n",
    "print('speed=30, dist=',hypothesis(30).numpy())\n",
    "print('speed=50, dist=',hypothesis(50).numpy())\n",
    "\n",
    "print('speed=[10,11,12,24,25], dist=',hypothesis([10,11,12,24,25]).numpy())\n"
   ]
  },
  {
   "cell_type": "code",
   "execution_count": 14,
   "metadata": {},
   "outputs": [
    {
     "data": {
      "text/plain": [
       "[<matplotlib.lines.Line2D at 0x2292f784888>]"
      ]
     },
     "execution_count": 14,
     "metadata": {},
     "output_type": "execute_result"
    },
    {
     "data": {
      "image/png": "[encoded data removed]",
      "text/plain": [
       "<Figure size 432x288 with 1 Axes>"
      ]
     },
     "metadata": {
      "needs_background": "light"
     },
     "output_type": "display_data"
    }
   ],
   "source": [
    "# 시각화 : matplotlib 사용\n",
    "def prediction(X,W,b):\n",
    "    return X*W + b\n",
    "\n",
    "plt.plot(x_train,y_train,'ro')  # Red      , 원본 데이터\n",
    "# plt.plot((0,25),(0,prediction(25,W,b)),'g' ) # Green\n",
    "plt.plot((0,25),(prediction(0,W,b),prediction(25,W,b)),'b' ) # Blue, 예측함수"
   ]
  },
  {
   "cell_type": "code",
   "execution_count": null,
   "metadata": {},
   "outputs": [],
   "source": []
  }
 ],
 "metadata": {
  "kernelspec": {
   "display_name": "Python 3",
   "language": "python",
   "name": "python3"
  },
  "language_info": {
   "codemirror_mode": {
    "name": "ipython",
    "version": 3
   },
   "file_extension": ".py",
   "mimetype": "text/x-python",
   "name": "python",
   "nbconvert_exporter": "python",
   "pygments_lexer": "ipython3",
   "version": "3.7.7"
  }
 },
 "nbformat": 4,
 "nbformat_minor": 4
}
